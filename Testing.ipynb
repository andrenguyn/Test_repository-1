{
 "cells": [
  {
   "cell_type": "code",
   "execution_count": 3,
   "id": "fcc3c4e9-b10f-4b63-9ca0-46e3f68670bb",
   "metadata": {},
   "outputs": [
    {
     "name": "stdout",
     "output_type": "stream",
     "text": [
      "testing\n"
     ]
    }
   ],
   "source": [
    "print (\"testing\")"
   ]
  },
  {
   "cell_type": "code",
   "execution_count": 2,
   "id": "9eae092d-f7be-4457-afa9-c1d98f967a88",
   "metadata": {},
   "outputs": [
    {
     "data": {
      "text/plain": [
       "8"
      ]
     },
     "execution_count": 2,
     "metadata": {},
     "output_type": "execute_result"
    }
   ],
   "source": [
    "6 + 6 - 4"
   ]
  },
  {
   "cell_type": "code",
   "execution_count": null,
   "id": "e553c2b9-c76d-4f87-aaa3-43d965f3ac5e",
   "metadata": {},
   "outputs": [],
   "source": []
  }
 ],
 "metadata": {
  "kernelspec": {
   "display_name": "Python 3 (ipykernel)",
   "language": "python",
   "name": "python3"
  },
  "language_info": {
   "codemirror_mode": {
    "name": "ipython",
    "version": 3
   },
   "file_extension": ".py",
   "mimetype": "text/x-python",
   "name": "python",
   "nbconvert_exporter": "python",
   "pygments_lexer": "ipython3",
   "version": "3.9.7"
  }
 },
 "nbformat": 4,
 "nbformat_minor": 5
}
